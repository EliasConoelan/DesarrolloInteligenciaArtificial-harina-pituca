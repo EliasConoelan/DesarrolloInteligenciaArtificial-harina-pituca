{
 "cells": [
  {
   "cell_type": "code",
   "execution_count": null,
   "metadata": {},
   "outputs": [],
   "source": [
    "# Importamos librerias\n",
    "import numpy as np\n",
    "import pandas as pd\n",
    "import seaborn as sns\n",
    "from pylab import rcParams\n",
    "import matplotlib.pyplot as plt\n",
    "from matplotlib import rc\n",
    "from pandas.plotting import register_matplotlib_converters\n",
    "from sklearn.model_selection import train_test_split\n",
    "import urllib\n",
    "import os\n",
    "import csv\n",
    "import cv2\n",
    "import time\n",
    "from PIL import Image"
   ]
  },
  {
   "cell_type": "code",
   "execution_count": 2,
   "metadata": {},
   "outputs": [
    {
     "name": "stderr",
     "output_type": "stream",
     "text": [
      "fatal: destination path 'keras-retinanet' already exists and is not an empty directory.\n"
     ]
    }
   ],
   "source": [
    "# Instalación keras-retinanet\n",
    "!git clone https://github.com/DavidReveloLuna/keras-retinanet.git\n"
   ]
  },
  {
   "cell_type": "code",
   "execution_count": 3,
   "metadata": {},
   "outputs": [
    {
     "name": "stdout",
     "output_type": "stream",
     "text": [
      "F:\\ProyectoPituca-IA\\PitucaDetectionRetN\\keras-retinanet\n"
     ]
    }
   ],
   "source": [
    "cd keras-retinanet/"
   ]
  },
  {
   "cell_type": "code",
   "execution_count": 4,
   "metadata": {},
   "outputs": [
    {
     "name": "stdout",
     "output_type": "stream",
     "text": [
      "Processing f:\\proyectopituca-ia\\pitucadetectionretn\\keras-retinanet\n",
      "Requirement already satisfied: keras in c:\\users\\elias\\anaconda3\\envs\\entornoprueba\\lib\\site-packages (from keras-retinanet==0.5.1) (2.3.1)\n",
      "Requirement already satisfied: keras-resnet==0.1.0 in c:\\users\\elias\\anaconda3\\envs\\entornoprueba\\lib\\site-packages (from keras-retinanet==0.5.1) (0.1.0)\n",
      "Requirement already satisfied: six in c:\\users\\elias\\anaconda3\\envs\\entornoprueba\\lib\\site-packages (from keras-retinanet==0.5.1) (1.15.0)\n",
      "Requirement already satisfied: scipy in c:\\users\\elias\\anaconda3\\envs\\entornoprueba\\lib\\site-packages (from keras-retinanet==0.5.1) (1.5.2)\n",
      "Requirement already satisfied: cython in c:\\users\\elias\\anaconda3\\envs\\entornoprueba\\lib\\site-packages (from keras-retinanet==0.5.1) (0.29.21)\n",
      "Requirement already satisfied: Pillow in c:\\users\\elias\\anaconda3\\envs\\entornoprueba\\lib\\site-packages (from keras-retinanet==0.5.1) (8.0.1)\n",
      "Collecting opencv-python\n",
      "  Using cached opencv_python-4.4.0.46-cp37-cp37m-win_amd64.whl (33.5 MB)\n",
      "Collecting progressbar2\n",
      "  Using cached progressbar2-3.53.1-py2.py3-none-any.whl (25 kB)\n",
      "Requirement already satisfied: numpy>=1.9.1 in c:\\users\\elias\\anaconda3\\envs\\entornoprueba\\lib\\site-packages (from keras->keras-retinanet==0.5.1) (1.17.0)\n",
      "Requirement already satisfied: pyyaml in c:\\users\\elias\\anaconda3\\envs\\entornoprueba\\lib\\site-packages (from keras->keras-retinanet==0.5.1) (5.3.1)\n",
      "Requirement already satisfied: h5py in c:\\users\\elias\\anaconda3\\envs\\entornoprueba\\lib\\site-packages (from keras->keras-retinanet==0.5.1) (2.10.0)\n",
      "Requirement already satisfied: keras_applications>=1.0.6 in c:\\users\\elias\\anaconda3\\envs\\entornoprueba\\lib\\site-packages (from keras->keras-retinanet==0.5.1) (1.0.8)\n",
      "Requirement already satisfied: keras_preprocessing>=1.0.5 in c:\\users\\elias\\anaconda3\\envs\\entornoprueba\\lib\\site-packages (from keras->keras-retinanet==0.5.1) (1.1.0)\n",
      "Collecting python-utils>=2.3.0\n",
      "  Using cached python_utils-2.4.0-py2.py3-none-any.whl (12 kB)\n",
      "Building wheels for collected packages: keras-retinanet\n",
      "  Building wheel for keras-retinanet (setup.py): started\n",
      "  Building wheel for keras-retinanet (setup.py): finished with status 'done'\n",
      "  Created wheel for keras-retinanet: filename=keras_retinanet-0.5.1-cp37-cp37m-win_amd64.whl size=131671 sha256=846a1264c87a73876124eeea94fce6ec4c40fca4f5808599acabb62ea09f3b59\n",
      "  Stored in directory: c:\\users\\elias\\appdata\\local\\pip\\cache\\wheels\\4a\\bb\\3e\\bace40a6c40fd8b6d1f2b4b9251137d0d84775dbc62312f074\n",
      "Successfully built keras-retinanet\n",
      "Installing collected packages: opencv-python, python-utils, progressbar2, keras-retinanet\n"
     ]
    },
    {
     "name": "stderr",
     "output_type": "stream",
     "text": [
      "ERROR: Could not install packages due to an EnvironmentError: [WinError 5] Acceso denegado: 'C:\\\\Users\\\\Elias\\\\anaconda3\\\\envs\\\\entornoprueba\\\\Lib\\\\site-packages\\\\cv2\\\\cv2.cp37-win_amd64.pyd'\n",
      "Consider using the `--user` option or check the permissions.\n",
      "\n"
     ]
    }
   ],
   "source": [
    "# Instalación y configuración de keras-retinet\n",
    "!pip install ."
   ]
  },
  {
   "cell_type": "code",
   "execution_count": null,
   "metadata": {},
   "outputs": [],
   "source": [
    "# Instalación y configuración de keras-retinet\n",
    "!python setup.py build_ext --inplace\n"
   ]
  },
  {
   "cell_type": "code",
   "execution_count": null,
   "metadata": {},
   "outputs": [],
   "source": [
    "#importar lo instalado\n",
    "from keras_retinanet import models\n",
    "from keras_retinanet.utils.image import read_image_bgr, preprocess_image, resize_image\n",
    "from keras_retinanet.utils.visualization import draw_box, draw_caption\n",
    "from keras_retinanet.utils.colors import label_color"
   ]
  },
  {
   "cell_type": "code",
   "execution_count": null,
   "metadata": {},
   "outputs": [],
   "source": [
    "cd .."
   ]
  },
  {
   "cell_type": "code",
   "execution_count": null,
   "metadata": {},
   "outputs": [],
   "source": [
    "# Cargamos el modelo\n",
    "# debe estar en la carpeta /snapshots/\n",
    "from keras.models import load_model\n",
    "from keras_retinanet import models\n",
    "\n",
    "model_path = os.path.join('snapshots', sorted(os.listdir('snapshots'), reverse=True)[0])\n",
    "print(model_path)\n",
    "\n",
    "model = models.load_model(model_path, backbone_name='resnet50')\n",
    "model = models.convert_model(model)\n",
    "\n",
    "labels_to_names = pd.read_csv('classes.csv', header=None).T.loc[0].to_dict()\n"
   ]
  },
  {
   "cell_type": "code",
   "execution_count": null,
   "metadata": {},
   "outputs": [],
   "source": [
    "# Función que realizaz la predicción\n",
    "\n",
    "import skimage.io as io\n",
    "\n",
    "def predict(image):\n",
    "    image = preprocess_image(image.copy())\n",
    "    image, scale = resize_image(image)\n",
    "\n",
    "    boxes, scores, labels = model.predict_on_batch(\n",
    "     np.expand_dims(image, axis=0)\n",
    "     )\n",
    "\n",
    "    boxes /= scale\n",
    "\n",
    "    return boxes, scores, labels\n"
   ]
  },
  {
   "cell_type": "code",
   "execution_count": null,
   "metadata": {},
   "outputs": [],
   "source": [
    "# Captura de Video\n",
    "camera = cv2.VideoCapture(0)\n",
    "camera_height = 500\n",
    "\n",
    "while(True):\n",
    "\n",
    "    _, frame = camera.read()\n",
    "    \n",
    "\n",
    "    frame = cv2.flip(frame, 1)\n",
    "\n",
    "    boxes, scores, labels = predict(frame)\n",
    "\n",
    "    draw = frame.copy()\n",
    "\n",
    "\n",
    "    for box, score, label in zip(boxes[0], scores[0], labels[0]):\n",
    "        if score > 0.8:\n",
    "            print(box)\n",
    "            b = box.astype(int)\n",
    "            color = label_color(label)\n",
    "            draw_box(draw, b, color=color)\n",
    "            caption = \"{} {:.3f}\".format(labels_to_names[label], score)\n",
    "            draw_caption(draw, b, caption)\n",
    "            \n",
    "\n",
    "    # show the frame\n",
    "    cv2.imshow(\"Test out\", draw)\n",
    "\n",
    "\n",
    "    key = cv2.waitKey(1)\n",
    "\n",
    "    # quit camera if 'q' key is pressed\n",
    "    if key & 0xFF == ord(\"q\"):\n",
    "        break\n",
    "\n",
    "camera.release()\n",
    "cv2.destroyAllWindows()"
   ]
  },
  {
   "cell_type": "code",
   "execution_count": null,
   "metadata": {},
   "outputs": [],
   "source": []
  }
 ],
 "metadata": {
  "kernelspec": {
   "display_name": "Python 3",
   "language": "python",
   "name": "python3"
  },
  "language_info": {
   "codemirror_mode": {
    "name": "ipython",
    "version": 3
   },
   "file_extension": ".py",
   "mimetype": "text/x-python",
   "name": "python",
   "nbconvert_exporter": "python",
   "pygments_lexer": "ipython3",
   "version": "3.7.9"
  }
 },
 "nbformat": 4,
 "nbformat_minor": 4
}
